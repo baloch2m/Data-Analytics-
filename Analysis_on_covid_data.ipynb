{
  "nbformat": 4,
  "nbformat_minor": 0,
  "metadata": {
    "colab": {
      "name": "Analysis on covid data.ipynb",
      "provenance": []
    },
    "kernelspec": {
      "name": "python3",
      "display_name": "Python 3"
    },
    "language_info": {
      "name": "python"
    }
  },
  "cells": [
    {
      "cell_type": "markdown",
      "source": [
        "## 1. Getting the tools ready:"
      ],
      "metadata": {
        "id": "5_40CHuZiDmQ"
      }
    },
    {
      "cell_type": "code",
      "execution_count": null,
      "metadata": {
        "id": "kFptAyhFhWEX"
      },
      "outputs": [],
      "source": [
        "# eda\n",
        "import pandas as pd\n",
        "import numpy as np\n",
        "import matplotlib.pyplot as plt\n",
        "import seaborn as sns"
      ]
    },
    {
      "cell_type": "markdown",
      "source": [
        "## 2. Getting the data ready:\n",
        "#### i. Loading the data:\n",
        "**Data Dictionary**  \n",
        "1. location- this is the country for which the variants information is provided;\n",
        "2. date - date for the data entry;\n",
        "3. variant - this is the variant corresponding to this data entry;\n",
        "4. num_sequences - the number of sequences processed (for the country, variant and date);\n",
        "5. perc_sequences - percentage of sequences from the total number of sequences (for the country, variant and date);\n",
        "6. numsequencestotal - total number of sequences (for the country, variant and date);"
      ],
      "metadata": {
        "id": "iFghjRHZiVOB"
      }
    },
    {
      "cell_type": "code",
      "source": [
        "data = pd.read_csv('/content/covid-variants.csv')"
      ],
      "metadata": {
        "id": "VGKjWNJbiQn7"
      },
      "execution_count": null,
      "outputs": []
    },
    {
      "cell_type": "code",
      "source": [
        "data.head()"
      ],
      "metadata": {
        "colab": {
          "base_uri": "https://localhost:8080/",
          "height": 206
        },
        "id": "sg7W5a7aiimR",
        "outputId": "6d0a304d-6b07-4736-ef57-fc9405bc5c66"
      },
      "execution_count": null,
      "outputs": [
        {
          "output_type": "execute_result",
          "data": {
            "text/html": [
              "\n",
              "  <div id=\"df-e1f5e491-6b5e-427a-91f2-d0e728f08682\">\n",
              "    <div class=\"colab-df-container\">\n",
              "      <div>\n",
              "<style scoped>\n",
              "    .dataframe tbody tr th:only-of-type {\n",
              "        vertical-align: middle;\n",
              "    }\n",
              "\n",
              "    .dataframe tbody tr th {\n",
              "        vertical-align: top;\n",
              "    }\n",
              "\n",
              "    .dataframe thead th {\n",
              "        text-align: right;\n",
              "    }\n",
              "</style>\n",
              "<table border=\"1\" class=\"dataframe\">\n",
              "  <thead>\n",
              "    <tr style=\"text-align: right;\">\n",
              "      <th></th>\n",
              "      <th>location</th>\n",
              "      <th>date</th>\n",
              "      <th>variant</th>\n",
              "      <th>num_sequences</th>\n",
              "      <th>perc_sequences</th>\n",
              "      <th>num_sequences_total</th>\n",
              "    </tr>\n",
              "  </thead>\n",
              "  <tbody>\n",
              "    <tr>\n",
              "      <th>0</th>\n",
              "      <td>Angola</td>\n",
              "      <td>2020-07-06</td>\n",
              "      <td>Alpha</td>\n",
              "      <td>0</td>\n",
              "      <td>0.0</td>\n",
              "      <td>3</td>\n",
              "    </tr>\n",
              "    <tr>\n",
              "      <th>1</th>\n",
              "      <td>Angola</td>\n",
              "      <td>2020-07-06</td>\n",
              "      <td>B.1.1.277</td>\n",
              "      <td>0</td>\n",
              "      <td>0.0</td>\n",
              "      <td>3</td>\n",
              "    </tr>\n",
              "    <tr>\n",
              "      <th>2</th>\n",
              "      <td>Angola</td>\n",
              "      <td>2020-07-06</td>\n",
              "      <td>B.1.1.302</td>\n",
              "      <td>0</td>\n",
              "      <td>0.0</td>\n",
              "      <td>3</td>\n",
              "    </tr>\n",
              "    <tr>\n",
              "      <th>3</th>\n",
              "      <td>Angola</td>\n",
              "      <td>2020-07-06</td>\n",
              "      <td>B.1.1.519</td>\n",
              "      <td>0</td>\n",
              "      <td>0.0</td>\n",
              "      <td>3</td>\n",
              "    </tr>\n",
              "    <tr>\n",
              "      <th>4</th>\n",
              "      <td>Angola</td>\n",
              "      <td>2020-07-06</td>\n",
              "      <td>B.1.160</td>\n",
              "      <td>0</td>\n",
              "      <td>0.0</td>\n",
              "      <td>3</td>\n",
              "    </tr>\n",
              "  </tbody>\n",
              "</table>\n",
              "</div>\n",
              "      <button class=\"colab-df-convert\" onclick=\"convertToInteractive('df-e1f5e491-6b5e-427a-91f2-d0e728f08682')\"\n",
              "              title=\"Convert this dataframe to an interactive table.\"\n",
              "              style=\"display:none;\">\n",
              "        \n",
              "  <svg xmlns=\"http://www.w3.org/2000/svg\" height=\"24px\"viewBox=\"0 0 24 24\"\n",
              "       width=\"24px\">\n",
              "    <path d=\"M0 0h24v24H0V0z\" fill=\"none\"/>\n",
              "    <path d=\"M18.56 5.44l.94 2.06.94-2.06 2.06-.94-2.06-.94-.94-2.06-.94 2.06-2.06.94zm-11 1L8.5 8.5l.94-2.06 2.06-.94-2.06-.94L8.5 2.5l-.94 2.06-2.06.94zm10 10l.94 2.06.94-2.06 2.06-.94-2.06-.94-.94-2.06-.94 2.06-2.06.94z\"/><path d=\"M17.41 7.96l-1.37-1.37c-.4-.4-.92-.59-1.43-.59-.52 0-1.04.2-1.43.59L10.3 9.45l-7.72 7.72c-.78.78-.78 2.05 0 2.83L4 21.41c.39.39.9.59 1.41.59.51 0 1.02-.2 1.41-.59l7.78-7.78 2.81-2.81c.8-.78.8-2.07 0-2.86zM5.41 20L4 18.59l7.72-7.72 1.47 1.35L5.41 20z\"/>\n",
              "  </svg>\n",
              "      </button>\n",
              "      \n",
              "  <style>\n",
              "    .colab-df-container {\n",
              "      display:flex;\n",
              "      flex-wrap:wrap;\n",
              "      gap: 12px;\n",
              "    }\n",
              "\n",
              "    .colab-df-convert {\n",
              "      background-color: #E8F0FE;\n",
              "      border: none;\n",
              "      border-radius: 50%;\n",
              "      cursor: pointer;\n",
              "      display: none;\n",
              "      fill: #1967D2;\n",
              "      height: 32px;\n",
              "      padding: 0 0 0 0;\n",
              "      width: 32px;\n",
              "    }\n",
              "\n",
              "    .colab-df-convert:hover {\n",
              "      background-color: #E2EBFA;\n",
              "      box-shadow: 0px 1px 2px rgba(60, 64, 67, 0.3), 0px 1px 3px 1px rgba(60, 64, 67, 0.15);\n",
              "      fill: #174EA6;\n",
              "    }\n",
              "\n",
              "    [theme=dark] .colab-df-convert {\n",
              "      background-color: #3B4455;\n",
              "      fill: #D2E3FC;\n",
              "    }\n",
              "\n",
              "    [theme=dark] .colab-df-convert:hover {\n",
              "      background-color: #434B5C;\n",
              "      box-shadow: 0px 1px 3px 1px rgba(0, 0, 0, 0.15);\n",
              "      filter: drop-shadow(0px 1px 2px rgba(0, 0, 0, 0.3));\n",
              "      fill: #FFFFFF;\n",
              "    }\n",
              "  </style>\n",
              "\n",
              "      <script>\n",
              "        const buttonEl =\n",
              "          document.querySelector('#df-e1f5e491-6b5e-427a-91f2-d0e728f08682 button.colab-df-convert');\n",
              "        buttonEl.style.display =\n",
              "          google.colab.kernel.accessAllowed ? 'block' : 'none';\n",
              "\n",
              "        async function convertToInteractive(key) {\n",
              "          const element = document.querySelector('#df-e1f5e491-6b5e-427a-91f2-d0e728f08682');\n",
              "          const dataTable =\n",
              "            await google.colab.kernel.invokeFunction('convertToInteractive',\n",
              "                                                     [key], {});\n",
              "          if (!dataTable) return;\n",
              "\n",
              "          const docLinkHtml = 'Like what you see? Visit the ' +\n",
              "            '<a target=\"_blank\" href=https://colab.research.google.com/notebooks/data_table.ipynb>data table notebook</a>'\n",
              "            + ' to learn more about interactive tables.';\n",
              "          element.innerHTML = '';\n",
              "          dataTable['output_type'] = 'display_data';\n",
              "          await google.colab.output.renderOutput(dataTable, element);\n",
              "          const docLink = document.createElement('div');\n",
              "          docLink.innerHTML = docLinkHtml;\n",
              "          element.appendChild(docLink);\n",
              "        }\n",
              "      </script>\n",
              "    </div>\n",
              "  </div>\n",
              "  "
            ],
            "text/plain": [
              "  location        date  ... perc_sequences  num_sequences_total\n",
              "0   Angola  2020-07-06  ...            0.0                    3\n",
              "1   Angola  2020-07-06  ...            0.0                    3\n",
              "2   Angola  2020-07-06  ...            0.0                    3\n",
              "3   Angola  2020-07-06  ...            0.0                    3\n",
              "4   Angola  2020-07-06  ...            0.0                    3\n",
              "\n",
              "[5 rows x 6 columns]"
            ]
          },
          "metadata": {},
          "execution_count": 3
        }
      ]
    },
    {
      "cell_type": "markdown",
      "source": [
        "#### ii. Inspect the data quality"
      ],
      "metadata": {
        "id": "JxAZyBhJjOad"
      }
    },
    {
      "cell_type": "code",
      "source": [
        "data.info()"
      ],
      "metadata": {
        "colab": {
          "base_uri": "https://localhost:8080/"
        },
        "id": "Sw_YuQzvij-R",
        "outputId": "fb1d79b3-4c7c-4f4a-99ce-6e96c140b6f7"
      },
      "execution_count": null,
      "outputs": [
        {
          "output_type": "stream",
          "name": "stdout",
          "text": [
            "<class 'pandas.core.frame.DataFrame'>\n",
            "RangeIndex: 100416 entries, 0 to 100415\n",
            "Data columns (total 6 columns):\n",
            " #   Column               Non-Null Count   Dtype  \n",
            "---  ------               --------------   -----  \n",
            " 0   location             100416 non-null  object \n",
            " 1   date                 100416 non-null  object \n",
            " 2   variant              100416 non-null  object \n",
            " 3   num_sequences        100416 non-null  int64  \n",
            " 4   perc_sequences       100416 non-null  float64\n",
            " 5   num_sequences_total  100416 non-null  int64  \n",
            "dtypes: float64(1), int64(2), object(3)\n",
            "memory usage: 4.6+ MB\n"
          ]
        }
      ]
    },
    {
      "cell_type": "code",
      "source": [
        "### missing values?\n",
        "data.isna().sum()"
      ],
      "metadata": {
        "colab": {
          "base_uri": "https://localhost:8080/"
        },
        "id": "LmgZ_oqijSeb",
        "outputId": "944e56fe-e45b-412a-abf6-5a378042bdca"
      },
      "execution_count": null,
      "outputs": [
        {
          "output_type": "execute_result",
          "data": {
            "text/plain": [
              "location               0\n",
              "date                   0\n",
              "variant                0\n",
              "num_sequences          0\n",
              "perc_sequences         0\n",
              "num_sequences_total    0\n",
              "dtype: int64"
            ]
          },
          "metadata": {},
          "execution_count": 5
        }
      ]
    },
    {
      "cell_type": "code",
      "source": [
        "### coverting the date column from string/object to datetime\n",
        "data['date'] = pd.to_datetime(data['date'])"
      ],
      "metadata": {
        "id": "ptZAt0gVjZeS"
      },
      "execution_count": null,
      "outputs": []
    },
    {
      "cell_type": "code",
      "source": [
        "data.info()"
      ],
      "metadata": {
        "colab": {
          "base_uri": "https://localhost:8080/"
        },
        "id": "wE9-KgLHjl2c",
        "outputId": "caed7a3d-1c5e-4328-a751-35c9c8f27846"
      },
      "execution_count": null,
      "outputs": [
        {
          "output_type": "stream",
          "name": "stdout",
          "text": [
            "<class 'pandas.core.frame.DataFrame'>\n",
            "RangeIndex: 100416 entries, 0 to 100415\n",
            "Data columns (total 6 columns):\n",
            " #   Column               Non-Null Count   Dtype         \n",
            "---  ------               --------------   -----         \n",
            " 0   location             100416 non-null  object        \n",
            " 1   date                 100416 non-null  datetime64[ns]\n",
            " 2   variant              100416 non-null  object        \n",
            " 3   num_sequences        100416 non-null  int64         \n",
            " 4   perc_sequences       100416 non-null  float64       \n",
            " 5   num_sequences_total  100416 non-null  int64         \n",
            "dtypes: datetime64[ns](1), float64(1), int64(2), object(2)\n",
            "memory usage: 4.6+ MB\n"
          ]
        }
      ]
    },
    {
      "cell_type": "markdown",
      "source": [
        "iii. Basic EDA"
      ],
      "metadata": {
        "id": "XnVN_WHgjy15"
      }
    },
    {
      "cell_type": "code",
      "source": [
        "### how many variants are there in total?\n",
        "print('Total Varients:', data['variant'].nunique())\n",
        "print('Varients: ', data['variant'].unique())"
      ],
      "metadata": {
        "colab": {
          "base_uri": "https://localhost:8080/"
        },
        "id": "dpVVQNi5jt5P",
        "outputId": "045b1782-30c7-4f0e-e462-4b7c268dbc47"
      },
      "execution_count": null,
      "outputs": [
        {
          "output_type": "stream",
          "name": "stdout",
          "text": [
            "Total Varients: 24\n",
            "Varients:  ['Alpha' 'B.1.1.277' 'B.1.1.302' 'B.1.1.519' 'B.1.160' 'B.1.177' 'B.1.221'\n",
            " 'B.1.258' 'B.1.367' 'B.1.620' 'Beta' 'Delta' 'Epsilon' 'Eta' 'Gamma'\n",
            " 'Iota' 'Kappa' 'Lambda' 'Mu' 'Omicron' 'S:677H.Robin1' 'S:677P.Pelican'\n",
            " 'others' 'non_who']\n"
          ]
        }
      ]
    },
    {
      "cell_type": "code",
      "source": [
        "### how many rows/obs we have for each varient\n",
        "plt.figure(figsize=(10,6))\n",
        "data['variant'].value_counts().plot.bar()\n",
        "plt.title('Rows/obs we have for each varient')\n",
        "plt.xticks(rotation=70)\n",
        "plt.show()\n"
      ],
      "metadata": {
        "colab": {
          "base_uri": "https://localhost:8080/",
          "height": 453
        },
        "id": "0Tb6eLDAkB5X",
        "outputId": "637abde6-6526-416a-dd83-607bb8098756"
      },
      "execution_count": null,
      "outputs": [
        {
          "output_type": "display_data",
          "data": {
            "image/png": "[encoded data removed]",
            "text/plain": [
              "<Figure size 720x432 with 1 Axes>"
            ]
          },
          "metadata": {
            "needs_background": "light"
          }
        }
      ]
    },
    {
      "cell_type": "code",
      "source": [
        "### how many countries we have in total?\n",
        "print('Total Countries:', data['location'].nunique())\n",
        "print('Countries: ', data['location'].unique())"
      ],
      "metadata": {
        "colab": {
          "base_uri": "https://localhost:8080/"
        },
        "id": "fxUzb90bkP_d",
        "outputId": "0353882e-7df1-4eab-b09c-6e89b58127d5"
      },
      "execution_count": null,
      "outputs": [
        {
          "output_type": "stream",
          "name": "stdout",
          "text": [
            "Total Countries: 121\n",
            "Countries:  ['Angola' 'Argentina' 'Aruba' 'Australia' 'Austria' 'Bahrain' 'Bangladesh'\n",
            " 'Belgium' 'Belize' 'Benin' 'Bosnia and Herzegovina' 'Botswana' 'Brazil'\n",
            " 'Brunei' 'Bulgaria' 'Cambodia' 'Cameroon' 'Canada' 'Chile' 'Colombia'\n",
            " 'Costa Rica' 'Croatia' 'Curacao' 'Cyprus' 'Czechia' 'Denmark' 'Djibouti'\n",
            " 'Dominican Republic' 'Ecuador' 'Egypt' 'Estonia' 'Ethiopia' 'Fiji'\n",
            " 'Finland' 'France' 'Gambia' 'Georgia' 'Germany' 'Ghana' 'Greece'\n",
            " 'Guatemala' 'Hong Kong' 'Hungary' 'Iceland' 'India' 'Indonesia' 'Iran'\n",
            " 'Iraq' 'Ireland' 'Israel' 'Italy' 'Jamaica' 'Japan' 'Jordan' 'Kazakhstan'\n",
            " 'Kenya' 'Kosovo' 'Kuwait' 'Latvia' 'Lebanon' 'Liechtenstein' 'Lithuania'\n",
            " 'Luxembourg' 'Madagascar' 'Malawi' 'Malaysia' 'Maldives' 'Malta'\n",
            " 'Mauritius' 'Mexico' 'Moldova' 'Monaco' 'Mongolia' 'Montenegro' 'Morocco'\n",
            " 'Mozambique' 'Nepal' 'Netherlands' 'New Zealand' 'Nigeria'\n",
            " 'North Macedonia' 'Norway' 'Oman' 'Pakistan' 'Papua New Guinea'\n",
            " 'Paraguay' 'Peru' 'Philippines' 'Poland' 'Portugal' 'Qatar' 'Romania'\n",
            " 'Russia' 'Rwanda' 'Senegal' 'Serbia' 'Seychelles' 'Singapore'\n",
            " 'Sint Maarten (Dutch part)' 'Slovakia' 'Slovenia' 'South Africa'\n",
            " 'South Korea' 'Spain' 'Sri Lanka' 'Suriname' 'Sweden' 'Switzerland'\n",
            " 'Thailand' 'Togo' 'Trinidad and Tobago' 'Turkey' 'Uganda' 'Ukraine'\n",
            " 'United Arab Emirates' 'United Kingdom' 'United States' 'Uruguay'\n",
            " 'Vietnam' 'Zambia' 'Zimbabwe']\n"
          ]
        }
      ]
    },
    {
      "cell_type": "code",
      "source": [
        "### how many rows/obs we have for each location\n",
        "data['location'].value_counts().sort_values(ascending=False).head(10).plot.barh()\n",
        "plt.title('Top 10 Countries by number of rows/obs:')\n",
        "plt.show()"
      ],
      "metadata": {
        "colab": {
          "base_uri": "https://localhost:8080/",
          "height": 281
        },
        "id": "j5_Wa0AklwB4",
        "outputId": "8609dc68-c118-4ba4-e397-2c842bba2c13"
      },
      "execution_count": null,
      "outputs": [
        {
          "output_type": "display_data",
          "data": {
            "image/png": "[encoded data removed]",
            "text/plain": [
              "<Figure size 432x288 with 1 Axes>"
            ]
          },
          "metadata": {
            "needs_background": "light"
          }
        }
      ]
    },
    {
      "cell_type": "code",
      "source": [
        "### total number of sequences per location\n",
        "total_sequences_per_country = data.groupby('location')['num_sequences_total'].sum().sort_values(ascending=False)"
      ],
      "metadata": {
        "id": "X-mYu7VKl4kc"
      },
      "execution_count": null,
      "outputs": []
    },
    {
      "cell_type": "code",
      "source": [
        "top_ten_by_seq = pd.DataFrame(total_sequences_per_country.head(10)).reset_index()"
      ],
      "metadata": {
        "id": "vFMA3uczoK6j"
      },
      "execution_count": null,
      "outputs": []
    },
    {
      "cell_type": "code",
      "source": [
        "sns.barplot(data = top_ten_by_seq, x='location', y='num_sequences_total')\n",
        "plt.xticks(rotation=60)\n",
        "plt.ticklabel_format(style='plain', axis='y')\n",
        "plt.title('Top 10 contries bt total number of sequences.')\n",
        "plt.show()"
      ],
      "metadata": {
        "colab": {
          "base_uri": "https://localhost:8080/",
          "height": 360
        },
        "id": "2vPBbQTco1jt",
        "outputId": "ad2a0d34-cf8f-4fcb-e747-86d6e0939a10"
      },
      "execution_count": null,
      "outputs": [
        {
          "output_type": "display_data",
          "data": {
            "image/png": "[encoded data removed]",
            "text/plain": [
              "<Figure size 432x288 with 1 Axes>"
            ]
          },
          "metadata": {
            "needs_background": "light"
          }
        }
      ]
    },
    {
      "cell_type": "code",
      "source": [
        "### grouby date\n",
        "### date on which top num of sequences were there\n",
        "data.groupby('date')['num_sequences_total'].max().sort_values().tail(1)"
      ],
      "metadata": {
        "colab": {
          "base_uri": "https://localhost:8080/"
        },
        "id": "8E59JVLZpZj4",
        "outputId": "80201b61-d273-418d-c456-8b10a79292fe"
      },
      "execution_count": null,
      "outputs": [
        {
          "output_type": "execute_result",
          "data": {
            "text/plain": [
              "date\n",
              "2021-08-09    146170\n",
              "Name: num_sequences_total, dtype: int64"
            ]
          },
          "metadata": {},
          "execution_count": 75
        }
      ]
    },
    {
      "cell_type": "code",
      "source": [
        "data.groupby(['date', 'location'])['num_sequences_total'].max()"
      ],
      "metadata": {
        "colab": {
          "base_uri": "https://localhost:8080/"
        },
        "id": "q6CKK1dwrJhZ",
        "outputId": "e500d2d0-e942-440f-b9ea-d6d105d2bb74"
      },
      "execution_count": null,
      "outputs": [
        {
          "output_type": "execute_result",
          "data": {
            "text/plain": [
              "date        location      \n",
              "2020-05-11  Argentina         151\n",
              "            Australia         148\n",
              "            Austria            34\n",
              "            Bangladesh        124\n",
              "            Belgium           134\n",
              "                             ... \n",
              "2022-01-05  Pakistan            6\n",
              "            Poland            124\n",
              "            Sri Lanka          11\n",
              "            United Kingdom    562\n",
              "            United States      35\n",
              "Name: num_sequences_total, Length: 4184, dtype: int64"
            ]
          },
          "metadata": {},
          "execution_count": 83
        }
      ]
    },
    {
      "cell_type": "code",
      "source": [
        ""
      ],
      "metadata": {
        "id": "fvnylR0Cr8TW"
      },
      "execution_count": null,
      "outputs": []
    }
  ]
}